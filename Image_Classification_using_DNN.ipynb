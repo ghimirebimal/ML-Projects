{
  "nbformat": 4,
  "nbformat_minor": 0,
  "metadata": {
    "colab": {
      "name": "Image Classification using DNN.ipynb",
      "provenance": [],
      "authorship_tag": "ABX9TyNRG+lWmEHo8aIf/MqRAa8l",
      "include_colab_link": true
    },
    "kernelspec": {
      "name": "python3",
      "display_name": "Python 3"
    },
    "language_info": {
      "name": "python"
    },
    "accelerator": "GPU"
  },
  "cells": [
    {
      "cell_type": "markdown",
      "metadata": {
        "id": "view-in-github",
        "colab_type": "text"
      },
      "source": [
        "<a href=\"https://colab.research.google.com/github/ghimirebimal/ML-Projects/blob/main/Image_Classification_using_DNN.ipynb\" target=\"_parent\"><img src=\"https://colab.research.google.com/assets/colab-badge.svg\" alt=\"Open In Colab\"/></a>"
      ]
    },
    {
      "cell_type": "markdown",
      "metadata": {
        "id": "Iay02dsRmVQc"
      },
      "source": [
        "# **Classifying Cifar10 dataset**"
      ]
    },
    {
      "cell_type": "code",
      "metadata": {
        "id": "oP2c9zzOmJbs",
        "colab": {
          "base_uri": "https://localhost:8080/"
        },
        "outputId": "b4a9acf8-c933-438d-d4ed-d71223874bbd"
      },
      "source": [
        "# TensorFlow and tf.keras\n",
        "import tensorflow as tf\n",
        "from tensorflow import keras\n",
        "from tensorflow.keras import datasets, layers, models\n",
        "# Helper libraries\n",
        "import numpy as np\n",
        "import matplotlib.pyplot as plt\n",
        "\n",
        "print(tf.__version__)"
      ],
      "execution_count": null,
      "outputs": [
        {
          "output_type": "stream",
          "name": "stdout",
          "text": [
            "2.6.0\n"
          ]
        }
      ]
    },
    {
      "cell_type": "markdown",
      "metadata": {
        "id": "9v_ZfjiB0kmu"
      },
      "source": [
        "# **Loading Cifar10 Dataset**"
      ]
    },
    {
      "cell_type": "code",
      "metadata": {
        "colab": {
          "base_uri": "https://localhost:8080/"
        },
        "id": "6XcCbq0VnGQC",
        "outputId": "6c1b38f5-c668-4461-e528-ba159e3ae4ad"
      },
      "source": [
        "(X_train,y_train), (X_test,y_test)=datasets.cifar10.load_data()\n",
        "X_train.shape"
      ],
      "execution_count": null,
      "outputs": [
        {
          "output_type": "stream",
          "name": "stdout",
          "text": [
            "Downloading data from https://www.cs.toronto.edu/~kriz/cifar-10-python.tar.gz\n",
            "170500096/170498071 [==============================] - 2s 0us/step\n",
            "170508288/170498071 [==============================] - 2s 0us/step\n"
          ]
        },
        {
          "output_type": "execute_result",
          "data": {
            "text/plain": [
              "(50000, 32, 32, 3)"
            ]
          },
          "metadata": {},
          "execution_count": 3
        }
      ]
    },
    {
      "cell_type": "code",
      "metadata": {
        "colab": {
          "base_uri": "https://localhost:8080/"
        },
        "id": "X-wgcD55nxnK",
        "outputId": "7befd8b8-33be-43f9-d480-0b150192b851"
      },
      "source": [
        "X_test.shape"
      ],
      "execution_count": null,
      "outputs": [
        {
          "output_type": "execute_result",
          "data": {
            "text/plain": [
              "(10000, 32, 32, 3)"
            ]
          },
          "metadata": {},
          "execution_count": 4
        }
      ]
    },
    {
      "cell_type": "code",
      "metadata": {
        "colab": {
          "base_uri": "https://localhost:8080/"
        },
        "id": "rgsl6SS3oUnD",
        "outputId": "b2743d4b-a0e5-4b3b-ef78-783ab54ce166"
      },
      "source": [
        "y_train[:5]"
      ],
      "execution_count": null,
      "outputs": [
        {
          "output_type": "execute_result",
          "data": {
            "text/plain": [
              "array([[6],\n",
              "       [9],\n",
              "       [9],\n",
              "       [4],\n",
              "       [1]], dtype=uint8)"
            ]
          },
          "metadata": {},
          "execution_count": 5
        }
      ]
    },
    {
      "cell_type": "markdown",
      "metadata": {
        "id": "rHOvPnZN1D6y"
      },
      "source": [
        "# **Rearranging 2-D training sample to 1-D sample for easy handling**"
      ]
    },
    {
      "cell_type": "code",
      "metadata": {
        "colab": {
          "base_uri": "https://localhost:8080/"
        },
        "id": "ympZx5U2BBhl",
        "outputId": "9ce36994-8186-4faf-dc82-28c46f3a2ccd"
      },
      "source": [
        "y_train=y_train.reshape(-1,) #Rearranging 2_D train sample to 1_D train sample\n",
        "y_train[:5]"
      ],
      "execution_count": null,
      "outputs": [
        {
          "output_type": "execute_result",
          "data": {
            "text/plain": [
              "array([6, 9, 9, 4, 1], dtype=uint8)"
            ]
          },
          "metadata": {},
          "execution_count": 6
        }
      ]
    },
    {
      "cell_type": "markdown",
      "metadata": {
        "id": "aP493DyX1RZ_"
      },
      "source": [
        "# **Defining Categorical Labels for the Cifar10 Dataset**"
      ]
    },
    {
      "cell_type": "code",
      "metadata": {
        "id": "NwfAnV-txx4F"
      },
      "source": [
        "labels = ['airplane', 'automobile', 'bird', 'cat', 'deer', 'dog', 'frog', 'horse', 'ship', 'truck']\n"
      ],
      "execution_count": null,
      "outputs": []
    },
    {
      "cell_type": "code",
      "metadata": {
        "id": "BIb_Xyt56tZj"
      },
      "source": [
        "def plot_figure(X,y,index):\n",
        "  plt.figure(figsize=(10,3))\n",
        "  plt.imshow(X[index])\n",
        "  plt.xlabel(labels[y[index]])"
      ],
      "execution_count": null,
      "outputs": []
    },
    {
      "cell_type": "markdown",
      "metadata": {
        "id": "N_zguWw41eA9"
      },
      "source": [
        "# **Plotting first 5 training images**"
      ]
    },
    {
      "cell_type": "code",
      "metadata": {
        "colab": {
          "base_uri": "https://localhost:8080/",
          "height": 1000
        },
        "id": "1Cdjt6mSBrdM",
        "outputId": "ee6fde72-86dd-42a9-8038-7a546dec3b27"
      },
      "source": [
        "for i in range(5):\n",
        "    plot_figure(X_train,y_train,i)"
      ],
      "execution_count": null,
      "outputs": [
        {
          "output_type": "display_data",
          "data": {
            "image/png": "[encoded data removed]",
            "text/plain": [
              "<Figure size 720x216 with 1 Axes>"
            ]
          },
          "metadata": {
            "needs_background": "light"
          }
        },
        {
          "output_type": "display_data",
          "data": {
            "image/png": "[encoded data removed]",
            "text/plain": [
              "<Figure size 720x216 with 1 Axes>"
            ]
          },
          "metadata": {
            "needs_background": "light"
          }
        },
        {
          "output_type": "display_data",
          "data": {
            "image/png": "[encoded data removed]",
            "text/plain": [
              "<Figure size 720x216 with 1 Axes>"
            ]
          },
          "metadata": {
            "needs_background": "light"
          }
        },
        {
          "output_type": "display_data",
          "data": {
            "image/png": "[encoded data removed]",
            "text/plain": [
              "<Figure size 720x216 with 1 Axes>"
            ]
          },
          "metadata": {
            "needs_background": "light"
          }
        },
        {
          "output_type": "display_data",
          "data": {
            "image/png": "[encoded data removed]",
            "text/plain": [
              "<Figure size 720x216 with 1 Axes>"
            ]
          },
          "metadata": {
            "needs_background": "light"
          }
        }
      ]
    },
    {
      "cell_type": "markdown",
      "metadata": {
        "id": "Upp2G_Sr1vuZ"
      },
      "source": [
        "# **Normalizing training and testing data with maximum value that a pixel can have.**"
      ]
    },
    {
      "cell_type": "code",
      "metadata": {
        "id": "d24NhzUzFDP3"
      },
      "source": [
        "X_train=X_train/255 #Normlizing training and testing data\n",
        "X_test=X_test/255"
      ],
      "execution_count": null,
      "outputs": []
    },
    {
      "cell_type": "markdown",
      "metadata": {
        "id": "_5928Qwx2nbF"
      },
      "source": [
        "# **Defining CNN model as learning model with 3 covolution and pooling layers followed by fully connected layers.**"
      ]
    },
    {
      "cell_type": "code",
      "metadata": {
        "id": "vQ3tX9CBPN91"
      },
      "source": [
        "cnn=models.Sequential([\n",
        "                       #CNN parameters\n",
        "                       layers.Conv2D(filters=32, kernel_size=(3,3), activation='relu', input_shape=(32,32,3)),\n",
        "                       layers.MaxPooling2D(2,2),\n",
        "                       #Next convolution and pooling layers\n",
        "                       layers.Conv2D(filters=64, kernel_size=(3,3), activation='relu', input_shape=(32,32,3)),\n",
        "                       layers.MaxPooling2D(2,2),\n",
        "                       #Next convolution and pooling layers\n",
        "                       layers.Conv2D(filters=64, kernel_size=(3,3), activation='relu', input_shape=(32,32,3)),\n",
        "                       layers.MaxPooling2D(2,2),\n",
        "                       #FC layers parameters\n",
        "                       layers.Flatten(),\n",
        "                       layers.Dense(100,activation='relu'),\n",
        "                       layers.Dense(10,activation='softmax')                      \n",
        "])"
      ],
      "execution_count": null,
      "outputs": []
    },
    {
      "cell_type": "code",
      "metadata": {
        "id": "nuKr05QLWb9M"
      },
      "source": [
        "cnn.compile(optimizer='adam',\n",
        "              loss='sparse_categorical_crossentropy',\n",
        "              metrics=['accuracy'])\n",
        "                                    "
      ],
      "execution_count": null,
      "outputs": []
    },
    {
      "cell_type": "markdown",
      "metadata": {
        "id": "yeg7ncTf85WZ"
      },
      "source": [
        "# **Training CNN model and Evaluating**"
      ]
    },
    {
      "cell_type": "code",
      "metadata": {
        "colab": {
          "base_uri": "https://localhost:8080/"
        },
        "id": "ki8u5j_oWtFv",
        "outputId": "ec6c9586-b242-4da9-f1f0-b21891c5123f"
      },
      "source": [
        "cnn.fit(X_train,y_train,epochs=8)"
      ],
      "execution_count": null,
      "outputs": [
        {
          "output_type": "stream",
          "name": "stdout",
          "text": [
            "Epoch 1/8\n",
            "1563/1563 [==============================] - 75s 47ms/step - loss: 1.5459 - accuracy: 0.4337\n",
            "Epoch 2/8\n",
            "1563/1563 [==============================] - 72s 46ms/step - loss: 1.1528 - accuracy: 0.5919\n",
            "Epoch 3/8\n",
            "1563/1563 [==============================] - 71s 46ms/step - loss: 0.9969 - accuracy: 0.6515\n",
            "Epoch 4/8\n",
            "1563/1563 [==============================] - 70s 45ms/step - loss: 0.9030 - accuracy: 0.6837\n",
            "Epoch 5/8\n",
            "1563/1563 [==============================] - 68s 43ms/step - loss: 0.8306 - accuracy: 0.7088\n",
            "Epoch 6/8\n",
            "1563/1563 [==============================] - 69s 44ms/step - loss: 0.7747 - accuracy: 0.7293\n",
            "Epoch 7/8\n",
            "1563/1563 [==============================] - 67s 43ms/step - loss: 0.7249 - accuracy: 0.7471\n",
            "Epoch 8/8\n",
            "1563/1563 [==============================] - 68s 43ms/step - loss: 0.6819 - accuracy: 0.7622\n"
          ]
        },
        {
          "output_type": "execute_result",
          "data": {
            "text/plain": [
              "<keras.callbacks.History at 0x7f368a266e10>"
            ]
          },
          "metadata": {},
          "execution_count": 13
        }
      ]
    },
    {
      "cell_type": "code",
      "metadata": {
        "colab": {
          "base_uri": "https://localhost:8080/"
        },
        "id": "N8wY2pnMXdZF",
        "outputId": "b3084fa0-c5cb-4b57-90b2-aa89a458bb16"
      },
      "source": [
        "cnn.evaluate(X_test,y_test)"
      ],
      "execution_count": null,
      "outputs": [
        {
          "output_type": "stream",
          "name": "stdout",
          "text": [
            "313/313 [==============================] - 4s 13ms/step - loss: 0.8849 - accuracy: 0.6997\n"
          ]
        },
        {
          "output_type": "execute_result",
          "data": {
            "text/plain": [
              "[0.8849244117736816, 0.6996999979019165]"
            ]
          },
          "metadata": {},
          "execution_count": 14
        }
      ]
    },
    {
      "cell_type": "code",
      "metadata": {
        "colab": {
          "base_uri": "https://localhost:8080/"
        },
        "id": "Z0DBe0UNX6KT",
        "outputId": "72531e13-fa1e-49bc-cf73-75beea08d5c9"
      },
      "source": [
        "y_test=y_test.reshape(-1,)\n",
        "y_test[:5]"
      ],
      "execution_count": null,
      "outputs": [
        {
          "output_type": "execute_result",
          "data": {
            "text/plain": [
              "array([3, 8, 8, 0, 6], dtype=uint8)"
            ]
          },
          "metadata": {},
          "execution_count": 15
        }
      ]
    },
    {
      "cell_type": "code",
      "metadata": {
        "colab": {
          "base_uri": "https://localhost:8080/"
        },
        "id": "TqAeJaTJYOq5",
        "outputId": "fe347f68-a3d9-40c6-a717-4a4f4fe46f5a"
      },
      "source": [
        "y_pred=cnn.predict(X_test)\n",
        "y_pred[:5]"
      ],
      "execution_count": null,
      "outputs": [
        {
          "output_type": "execute_result",
          "data": {
            "text/plain": [
              "array([[3.7910365e-03, 5.6390633e-04, 1.7320108e-02, 8.6793590e-01,\n",
              "        4.7020731e-03, 6.5686308e-02, 5.6091428e-04, 2.6125239e-02,\n",
              "        1.2798594e-02, 5.1588810e-04],\n",
              "       [1.8644562e-02, 5.6823343e-03, 6.5186723e-06, 1.2456473e-05,\n",
              "        2.4677638e-06, 6.0421252e-07, 1.1961355e-06, 9.9612964e-07,\n",
              "        9.7512323e-01, 5.2567589e-04],\n",
              "       [1.1627314e-02, 7.6317950e-03, 1.3742027e-03, 9.2294579e-03,\n",
              "        2.1722111e-04, 1.5058984e-03, 1.1598894e-03, 2.3527532e-04,\n",
              "        9.6443796e-01, 2.5809535e-03],\n",
              "       [9.1351002e-01, 6.2585640e-04, 3.5292342e-02, 2.6222391e-03,\n",
              "        2.4071648e-03, 5.3087936e-04, 1.0758021e-04, 1.6791334e-04,\n",
              "        4.3521211e-02, 1.2147026e-03],\n",
              "       [1.6629093e-06, 1.3238841e-06, 1.7102461e-02, 5.6954273e-03,\n",
              "        7.9550302e-01, 5.4303714e-04, 1.8113716e-01, 1.1614156e-05,\n",
              "        4.1402823e-06, 1.5115029e-07]], dtype=float32)"
            ]
          },
          "metadata": {},
          "execution_count": 16
        }
      ]
    },
    {
      "cell_type": "markdown",
      "metadata": {
        "id": "wXVaghhF3rHv"
      },
      "source": [
        "# **Extracting the highest value from 10 output units for prediction**"
      ]
    },
    {
      "cell_type": "code",
      "metadata": {
        "colab": {
          "base_uri": "https://localhost:8080/"
        },
        "id": "NZdoQgGbYsbr",
        "outputId": "2803bfb4-9ee7-4c3a-b587-69a32d257dca"
      },
      "source": [
        "y_pred_classes=[np.argmax(element) for element in y_pred]\n",
        "y_pred_classes[:10]"
      ],
      "execution_count": null,
      "outputs": [
        {
          "output_type": "execute_result",
          "data": {
            "text/plain": [
              "[3, 8, 8, 0, 4, 6, 1, 6, 3, 1]"
            ]
          },
          "metadata": {},
          "execution_count": 17
        }
      ]
    },
    {
      "cell_type": "code",
      "metadata": {
        "colab": {
          "base_uri": "https://localhost:8080/"
        },
        "id": "HzxPbRF0ahvm",
        "outputId": "50ed1537-4123-44c2-b8d2-8ae67c4624a9"
      },
      "source": [
        "y_test[:10]"
      ],
      "execution_count": null,
      "outputs": [
        {
          "output_type": "execute_result",
          "data": {
            "text/plain": [
              "array([3, 8, 8, 0, 6, 6, 1, 6, 3, 1], dtype=uint8)"
            ]
          },
          "metadata": {},
          "execution_count": 18
        }
      ]
    },
    {
      "cell_type": "code",
      "metadata": {
        "colab": {
          "base_uri": "https://localhost:8080/",
          "height": 1000
        },
        "id": "1eRjPoN1azz-",
        "outputId": "418c2e75-ab01-41aa-9066-52aae288a267"
      },
      "source": [
        "for i in range(6):\n",
        "    plot_figure(X_test,y_test,i)"
      ],
      "execution_count": null,
      "outputs": [
        {
          "output_type": "display_data",
          "data": {
            "image/png": "[encoded data removed]",
            "text/plain": [
              "<Figure size 720x216 with 1 Axes>"
            ]
          },
          "metadata": {
            "needs_background": "light"
          }
        },
        {
          "output_type": "display_data",
          "data": {
            "image/png": "[encoded data removed]",
            "text/plain": [
              "<Figure size 720x216 with 1 Axes>"
            ]
          },
          "metadata": {
            "needs_background": "light"
          }
        },
        {
          "output_type": "display_data",
          "data": {
            "image/png": "[encoded data removed]",
            "text/plain": [
              "<Figure size 720x216 with 1 Axes>"
            ]
          },
          "metadata": {
            "needs_background": "light"
          }
        },
        {
          "output_type": "display_data",
          "data": {
            "image/png": "[encoded data removed]",
            "text/plain": [
              "<Figure size 720x216 with 1 Axes>"
            ]
          },
          "metadata": {
            "needs_background": "light"
          }
        },
        {
          "output_type": "display_data",
          "data": {
            "image/png": "[encoded data removed]",
            "text/plain": [
              "<Figure size 720x216 with 1 Axes>"
            ]
          },
          "metadata": {
            "needs_background": "light"
          }
        },
        {
          "output_type": "display_data",
          "data": {
            "image/png": "[encoded data removed]",
            "text/plain": [
              "<Figure size 720x216 with 1 Axes>"
            ]
          },
          "metadata": {
            "needs_background": "light"
          }
        }
      ]
    },
    {
      "cell_type": "markdown",
      "metadata": {
        "id": "64mqLWk768_c"
      },
      "source": [
        "# **Printing first 10 True Labels and Predicted Labels**"
      ]
    },
    {
      "cell_type": "code",
      "metadata": {
        "colab": {
          "base_uri": "https://localhost:8080/"
        },
        "id": "O4kIVGoibEpg",
        "outputId": "73840d60-06e0-4b5c-be34-2cbc003e7eb6"
      },
      "source": [
        "print('True Label    Predicted Label')\n",
        "for i in range(10):\n",
        "    print(f'{labels[y_test[i]]}     {labels[y_pred_classes[i]]}')"
      ],
      "execution_count": null,
      "outputs": [
        {
          "output_type": "stream",
          "name": "stdout",
          "text": [
            "True Label    Predicted Label\n",
            "cat     cat\n",
            "ship     ship\n",
            "ship     ship\n",
            "airplane     airplane\n",
            "frog     deer\n",
            "frog     frog\n",
            "automobile     automobile\n",
            "frog     frog\n",
            "cat     cat\n",
            "automobile     automobile\n"
          ]
        }
      ]
    },
    {
      "cell_type": "markdown",
      "metadata": {
        "id": "eShra48l62eo"
      },
      "source": [
        "# **Printing Classification Report**"
      ]
    },
    {
      "cell_type": "code",
      "metadata": {
        "colab": {
          "base_uri": "https://localhost:8080/",
          "height": 164
        },
        "id": "nEOfeWZzbdgD",
        "outputId": "61a0c821-fae2-4568-8b92-2b28e2e2a474"
      },
      "source": [
        "from sklearn.metrics import confusion_matrix, classification_report\n",
        "print(\"Classification report:\\n\",classification_report(y_test,y_pred_classes))"
      ],
      "execution_count": null,
      "outputs": [
        {
          "output_type": "error",
          "ename": "NameError",
          "evalue": "ignored",
          "traceback": [
            "\u001b[0;31m---------------------------------------------------------------------------\u001b[0m",
            "\u001b[0;31mNameError\u001b[0m                                 Traceback (most recent call last)",
            "\u001b[0;32m<ipython-input-21-2c9e588993ea>\u001b[0m in \u001b[0;36m<module>\u001b[0;34m()\u001b[0m\n\u001b[0;32m----> 1\u001b[0;31m \u001b[0mprint\u001b[0m\u001b[0;34m(\u001b[0m\u001b[0;34m\"Classification report:\\n\"\u001b[0m\u001b[0;34m,\u001b[0m\u001b[0mclassification_report\u001b[0m\u001b[0;34m(\u001b[0m\u001b[0my_test\u001b[0m\u001b[0;34m,\u001b[0m\u001b[0my_pred_classes\u001b[0m\u001b[0;34m)\u001b[0m\u001b[0;34m)\u001b[0m\u001b[0;34m\u001b[0m\u001b[0;34m\u001b[0m\u001b[0m\n\u001b[0m",
            "\u001b[0;31mNameError\u001b[0m: name 'classification_report' is not defined"
          ]
        }
      ]
    },
    {
      "cell_type": "markdown",
      "metadata": {
        "id": "TVu2ydVSmTTw"
      },
      "source": [
        ""
      ]
    }
  ]
}
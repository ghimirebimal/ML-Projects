{
  "nbformat": 4,
  "nbformat_minor": 0,
  "metadata": {
    "colab": {
      "name": "Basic Deep Learning with Neural Networks.ipynb",
      "provenance": [],
      "collapsed_sections": [],
      "include_colab_link": true
    },
    "kernelspec": {
      "name": "python3",
      "display_name": "Python 3"
    },
    "language_info": {
      "name": "python"
    }
  },
  "cells": [
    {
      "cell_type": "markdown",
      "metadata": {
        "id": "view-in-github",
        "colab_type": "text"
      },
      "source": [
        "<a href=\"https://colab.research.google.com/github/ghimirebimal/ML-Projects/blob/main/Basic_Deep_Learning_with_Neural_Networks.ipynb\" target=\"_parent\"><img src=\"https://colab.research.google.com/assets/colab-badge.svg\" alt=\"Open In Colab\"/></a>"
      ]
    },
    {
      "cell_type": "markdown",
      "metadata": {
        "id": "rX8mhOLljYeM"
      },
      "source": [
        "##### Copyright  The TensorFlow Authors."
      ]
    },
    {
      "cell_type": "code",
      "metadata": {
        "id": "BZSlp3DAjdYf"
      },
      "source": [
        "#@title Licensed under the Apache License, Version 2.0 (the \"License\");\n",
        "# you may not use this file except in compliance with the License.\n",
        "# You may obtain a copy of the License at\n",
        "#\n",
        "# https://www.apache.org/licenses/LICENSE-2.0\n",
        "#\n",
        "# Unless required by applicable law or agreed to in writing, software\n",
        "# distributed under the License is distributed on an \"AS IS\" BASIS,\n",
        "# WITHOUT WARRANTIES OR CONDITIONS OF ANY KIND, either express or implied.\n",
        "# See the License for the specific language governing permissions and\n",
        "# limitations under the License."
      ],
      "execution_count": null,
      "outputs": []
    },
    {
      "cell_type": "markdown",
      "metadata": {
        "id": "ZIAkIlfmCe1B"
      },
      "source": [
        "##Basic Deep Learning with Neural Networks"
      ]
    },
    {
      "cell_type": "markdown",
      "metadata": {
        "id": "fA93WUy1zzWf"
      },
      "source": [
        "Like every first app we should start with something simple that shows the overall scaffolding for how your code works. Let us consider one example that shows relationship between two numbers. So, for example, if you were writing code for a function like this, you already know the 'rules'  \n",
        "\n",
        "```\n",
        "float hw_function(float x){\n",
        "    float y = (3 * x) - 1;\n",
        "    return y;\n",
        "}\n",
        "```\n",
        "\n",
        "So how would you train a neural network to do the equivalent task? Using data! By feeding it with a set of Xs, and a set of Ys, it should be able to figure out the relationship between them. \n",
        "\n",
        "This is obviously a very different paradigm than what you might be used to, so let's step through it piece by piece.\n",
        "\n",
        "```\n",
        "Rules' are the outcome of learning model based in input (data) and output(answer)\n",
        "```\n"
      ]
    },
    {
      "cell_type": "markdown",
      "metadata": {
        "id": "5-4D08_61N7B"
      },
      "source": [
        ""
      ]
    },
    {
      "cell_type": "markdown",
      "metadata": {
        "id": "DzbtdRcZDO9B"
      },
      "source": [
        "## Imports\n",
        "\n",
        "Let's start with our imports. Here we are importing TensorFlow and calling it tf for ease of use.  We then import a library called numpy, which helps us to represent our data as lists easily and quickly. The framework for defining a neural network as a set of Sequential layers is called keras, so we import that too.\n",
        "\n",
        "(**Note:** You can run the notebook using TensorFlow 2.5.0)"
      ]
    },
    {
      "cell_type": "code",
      "metadata": {
        "id": "BlQCLrxA_27d"
      },
      "source": [
        "#!pip install tensorflow==2.5.0"
      ],
      "execution_count": null,
      "outputs": []
    },
    {
      "cell_type": "code",
      "metadata": {
        "id": "X9uIpOS2zx7k",
        "colab": {
          "base_uri": "https://localhost:8080/"
        },
        "outputId": "8eb9259b-2eed-4c4a-9463-0674911277e1"
      },
      "source": [
        "import tensorflow as tf\n",
        "import numpy as np\n",
        "import pandas as pd\n",
        "from tensorflow import keras\n",
        "print(tf.__version__)"
      ],
      "execution_count": null,
      "outputs": [
        {
          "output_type": "stream",
          "name": "stdout",
          "text": [
            "2.6.0\n"
          ]
        }
      ]
    },
    {
      "cell_type": "markdown",
      "metadata": {
        "id": "wwJGmDrQ0EoB"
      },
      "source": [
        "## Define and Compile the Neural Network\n",
        "\n",
        "Next we will create the simplest possible neural network. It has 1 layer, and that layer has 1 neuron, and the input shape to it is just 1 value."
      ]
    },
    {
      "cell_type": "code",
      "metadata": {
        "id": "kQFAr_xo0M4T"
      },
      "source": [
        "model = tf.keras.Sequential([keras.layers.Dense(units=1, input_shape=[1])])\n"
      ],
      "execution_count": null,
      "outputs": []
    },
    {
      "cell_type": "markdown",
      "metadata": {
        "id": "KhjZjZ-c0Ok9"
      },
      "source": [
        "Now we compile our Neural Network. When we do so, we have to specify 2 functions, a loss and an optimizer.\n",
        "\n",
        "If you've seen lots of math for machine learning, here's where it's usually used, but in this case it's nicely encapsulated in functions for you. But what happens here — let's explain...\n",
        "\n",
        "We know that in our function, the relationship between the numbers is y=3x-1. \n",
        "\n",
        "When the computer is trying to 'learn' that, it makes a guess...maybe y=10x+10. The LOSS function measures the guessed answers against the known correct answers and measures how well or how badly it did.\n",
        "\n",
        "It then uses the OPTIMIZER function to make another guess. Based on how the loss function went, it will try to minimize the loss. At that point maybe it will come up with somehting like y=5x+5, which, while still pretty bad, is closer to the correct result (i.e. the loss is lower) \n",
        "\n",
        "Note: Stochastic Gradient Descent (SGD) is a simple yet very efficient approach to fitting linear classifiers and regressors under convex loss functions such as (linear) Support Vector Machines and Logistic Regression.\n",
        "\n",
        "\n",
        "It will repeat this for the number of EPOCHS which you will see shortly. But first, here's how we tell it to use 'MEAN SQUARED ERROR' for the loss and 'STOCHASTIC GRADIENT DESCENT' for the optimizer. You don't need to understand the math for these yet, but you can see that they work! :)\n",
        "\n",
        "Over time you will learn the different and appropriate loss and optimizer functions for different scenarios. \n"
      ]
    },
    {
      "cell_type": "code",
      "metadata": {
        "id": "m8YQN1H41L-Y"
      },
      "source": [
        "model.compile(optimizer='sgd', loss='mean_squared_error')\n"
      ],
      "execution_count": null,
      "outputs": []
    },
    {
      "cell_type": "markdown",
      "metadata": {
        "id": "5QyOUhFw1OUX"
      },
      "source": [
        "## Providing the Data\n",
        "\n",
        "Next up we'll feed in some data. In this case we are taking 6 xs and 6ys. You can see that the relationship between these is that y=3x-1, so where x = -2, y=-7 etc. etc. \n",
        "\n",
        "A python library called 'Numpy' provides lots of array type data structures that are a defacto standard way of doing it. We declare that we want to use these by specifying the values as an np.array[]"
      ]
    },
    {
      "cell_type": "code",
      "metadata": {
        "id": "4Dxk4q-jzEy4"
      },
      "source": [
        "xs = np.array([-2.0,\t-1.0,\t0.0, 1.0,\t2.0,\t3.0], dtype=float)\n",
        "ys = np.array([-7.0,\t-4.0,\t-1.0,\t2.0,\t5.0, 8.0], dtype=float)\n"
      ],
      "execution_count": null,
      "outputs": []
    },
    {
      "cell_type": "code",
      "metadata": {
        "id": "EuRXrOQMFzug"
      },
      "source": [
        "model.fit(xs,ys,epochs=500)"
      ],
      "execution_count": null,
      "outputs": []
    },
    {
      "cell_type": "markdown",
      "metadata": {
        "id": "n_YcWRElnM_b"
      },
      "source": [
        "# Training the Neural Network"
      ]
    },
    {
      "cell_type": "markdown",
      "metadata": {
        "id": "c-Jk4dG91dvD"
      },
      "source": [
        "The process of training the neural network, where it 'learns' the relationship between the Xs and Ys is in the **model.fit**  call. This is where it will go through the loop we spoke about above, making a guess, measuring how good or bad it is (aka the loss), using the opimizer to make another guess etc. It will do it for the number of epochs you specify. When you run this code, you'll see the loss on the right hand side."
      ]
    },
    {
      "cell_type": "markdown",
      "metadata": {
        "id": "kaFIr71H2OZ-"
      },
      "source": [
        "Ok, now you have a model that has been trained to learn the relationship between X and Y. You can use the **model.predict** method to have it figure out the Y for a previously unknown X. So, for example, if X = 11, what do you think Y will be? Take a guess before you run this code:"
      ]
    },
    {
      "cell_type": "code",
      "metadata": {
        "colab": {
          "base_uri": "https://localhost:8080/"
        },
        "id": "ih_5m-jueqUf",
        "outputId": "d399cfcb-e514-496e-d4b6-8a207db32b05"
      },
      "source": [
        "print(model.predict([11.0]))\n",
        "#y=3*X-1=32"
      ],
      "execution_count": null,
      "outputs": [
        {
          "output_type": "stream",
          "name": "stdout",
          "text": [
            "[[31.999704]]\n"
          ]
        }
      ]
    },
    {
      "cell_type": "markdown",
      "metadata": {
        "id": "61rVwikRj5HM"
      },
      "source": [
        "You might have thought 32, right? But it ended up being a little under. Why do you think that is? \n",
        "\n",
        "Remember that neural networks deal with probabilities, so given the data that we fed the NN with, it calculated that there is a very high probability that the relationship between X and Y is Y=3X-1, but with only 6 data points we can't know for sure. As a result, the result for 11 is very close to 32, but not necessarily 32. \n",
        "\n",
        "As you work with neural networks, you'll see this pattern recurring. You will almost always deal with probabilities, not certainties, and will do a little bit of coding to figure out what the result is based on the probabilities, particularly when it comes to classification.\n"
      ]
    },
    {
      "cell_type": "markdown",
      "metadata": {
        "id": "N5VmvWwbkppL"
      },
      "source": [
        "**(10 points) Write a simple program that predicts**\n",
        "* the house price where the base price is $300,000.00 and price increases by \\$100k per bedroom. Predict the price for (say) 6 bedroom house. **(5 points)**"
      ]
    },
    {
      "cell_type": "code",
      "metadata": {
        "id": "cbfC1LBNgWuc"
      },
      "source": [
        "def hw_function(x):\n",
        "     y = (300000 + x*100000)\n",
        "     return (y)\n"
      ],
      "execution_count": null,
      "outputs": []
    },
    {
      "cell_type": "code",
      "metadata": {
        "colab": {
          "base_uri": "https://localhost:8080/"
        },
        "id": "j3EQc5Ate3rb",
        "outputId": "7b96f8ba-a52f-4cd0-bf4f-5397634cb466"
      },
      "source": [
        "for x in range(1, 6):  \n",
        "   print(hw_function(x))"
      ],
      "execution_count": null,
      "outputs": [
        {
          "output_type": "stream",
          "name": "stdout",
          "text": [
            "400000\n",
            "500000\n",
            "600000\n",
            "700000\n",
            "800000\n"
          ]
        }
      ]
    },
    {
      "cell_type": "code",
      "metadata": {
        "id": "3YprOBDPfWUY"
      },
      "source": [
        "xh = np.array([1,\t2,\t3,\t4,\t5], dtype=float)\n",
        "yh = np.array([400000,\t500000,\t600000,\t700000,\t800000], dtype=float)\n",
        "yh=yh/1000"
      ],
      "execution_count": null,
      "outputs": []
    },
    {
      "cell_type": "code",
      "metadata": {
        "id": "0YFbpkQvgt0I"
      },
      "source": [
        "model_house = tf.keras.Sequential([keras.layers.Dense(units=1, input_shape=[1])])"
      ],
      "execution_count": null,
      "outputs": []
    },
    {
      "cell_type": "code",
      "metadata": {
        "id": "EuCmeIPxfHmo"
      },
      "source": [
        "model_house.compile(optimizer='sgd', loss='mean_squared_error')\n"
      ],
      "execution_count": null,
      "outputs": []
    },
    {
      "cell_type": "code",
      "metadata": {
        "id": "31-VYmoJe2Zp"
      },
      "source": [
        "model_house.fit(xh, yh, epochs=1500)\n"
      ],
      "execution_count": null,
      "outputs": []
    },
    {
      "cell_type": "code",
      "metadata": {
        "id": "oxNzL4lS2Gui",
        "colab": {
          "base_uri": "https://localhost:8080/"
        },
        "outputId": "46bd4782-4ee9-422d-a4ec-6bd0830f7f64"
      },
      "source": [
        "print(1000*model_house.predict([6]))"
      ],
      "execution_count": null,
      "outputs": [
        {
          "output_type": "stream",
          "name": "stdout",
          "text": [
            "[[901041.3]]\n"
          ]
        }
      ]
    },
    {
      "cell_type": "markdown",
      "metadata": {
        "id": "rUqS1D7w6IrX"
      },
      "source": [
        "Initially, when data was applied without scaling, the loss was increasing excessively. So, the target value is scaled by 1000. Trained Neural Network model predicted $901041.3 for 6 bedroom house when the number of epochs is choosen 1500. At 500 epochs, it was predicting around $930K. \n",
        "\n",
        "\n",
        "\n"
      ]
    },
    {
      "cell_type": "markdown",
      "metadata": {
        "id": "4bhQUjjvm7jA"
      },
      "source": [
        "*   the credit limit where the base credit limit is \\$500.00 and credit limit increases by \\$500 per \\$5000 increment in annual income. Predict the credit limit for (say) \\$100,000.00 annual salary. **(5 points)**\n",
        "\n"
      ]
    },
    {
      "cell_type": "markdown",
      "metadata": {
        "id": "tbmqPJfo-LLD"
      },
      "source": [
        "For the given xc and yc values below, with successive epochs, the loss (mean square error) was raising enormosly and reached to infinity. So, instead of origional data, z score normalization is used to address increasing loss value."
      ]
    },
    {
      "cell_type": "code",
      "metadata": {
        "id": "fKTC5qC_nNzz"
      },
      "source": [
        "xc=np.array([0,5000,10000,15000,20000,25000],dtype=float)\n",
        "yc=np.array([500,1000,1500,2000,2500,3000], dtype=float)\n",
        "xc_mean=np.mean(xc)\n",
        "xc_std=np.std(xc)\n",
        "xc_zscore=np.array(list((map(lambda x:(x-xc_mean)/xc_std,xc))))"
      ],
      "execution_count": null,
      "outputs": []
    },
    {
      "cell_type": "code",
      "metadata": {
        "id": "MsQN9l7rqsFV"
      },
      "source": [
        "model_credit = tf.keras.Sequential([keras.layers.Dense(units=1, input_shape=[1])])\n"
      ],
      "execution_count": null,
      "outputs": []
    },
    {
      "cell_type": "code",
      "metadata": {
        "id": "8F2PEUylqwN5"
      },
      "source": [
        "model_credit.compile(optimizer='sgd', loss='mean_squared_error')"
      ],
      "execution_count": null,
      "outputs": []
    },
    {
      "cell_type": "code",
      "metadata": {
        "id": "UDa4K2pbq6WS"
      },
      "source": [
        "model_credit.fit(xc_zscore, yc, epochs=1000)"
      ],
      "execution_count": null,
      "outputs": []
    },
    {
      "cell_type": "code",
      "metadata": {
        "colab": {
          "base_uri": "https://localhost:8080/"
        },
        "id": "1opSM0UGrW3T",
        "outputId": "273cd730-07cb-4433-a9b7-f675fcd361b2"
      },
      "source": [
        "#Annual income\n",
        "inc=100000\n",
        "inc_zscore=(inc-xc_mean)/xc_std\n",
        "print(model_credit.predict([inc_zscore]))"
      ],
      "execution_count": null,
      "outputs": [
        {
          "output_type": "stream",
          "name": "stdout",
          "text": [
            "[[10499.982]]\n"
          ]
        }
      ]
    }
  ]
}
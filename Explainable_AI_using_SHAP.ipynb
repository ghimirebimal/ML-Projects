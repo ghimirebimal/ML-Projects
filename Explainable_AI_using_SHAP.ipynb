{
  "nbformat": 4,
  "nbformat_minor": 0,
  "metadata": {
    "colab": {
      "name": "Explainable AI using SHAP",
      "provenance": [],
      "collapsed_sections": [],
      "include_colab_link": true
    },
    "kernelspec": {
      "name": "python3",
      "display_name": "Python 3"
    },
    "language_info": {
      "name": "python"
    }
  },
  "cells": [
    {
      "cell_type": "markdown",
      "metadata": {
        "id": "view-in-github",
        "colab_type": "text"
      },
      "source": [
        "<a href=\"https://colab.research.google.com/github/ghimirebimal/ML-Projects/blob/main/Explainable_AI_using_SHAP.ipynb\" target=\"_parent\"><img src=\"https://colab.research.google.com/assets/colab-badge.svg\" alt=\"Open In Colab\"/></a>"
      ]
    },
    {
      "cell_type": "markdown",
      "metadata": {
        "id": "U-VdbXtF_ry8"
      },
      "source": [
        "#Lab 10: Explainable AI\n",
        "### Using SHAP library to visualize and explain the decision made by the ML model"
      ]
    },
    {
      "cell_type": "markdown",
      "metadata": {
        "id": "gJsNkjroAUZj"
      },
      "source": [
        "### Learning Objectives\n",
        "* Learn to use SHAP(Shapely Additive exPlanations) library and force plot to visualize the features most responsible for the label.\n",
        "* Learn to use catboost library to convert categorical features into numeric.\n",
        "* Use the pyplot to select the few vital features responsible for the label from the trivial many."
      ]
    },
    {
      "cell_type": "markdown",
      "metadata": {
        "id": "49B1ovHUR3Fz"
      },
      "source": [
        "### Install SHAP and Catboost\n",
        "Install SHAP(Shapely Additive exPlanations) is a package which helps explain the predictions made by ML models using game theoretic approach. Catbooost is a package which helps utilize the categorical data directly into the model. "
      ]
    },
    {
      "cell_type": "code",
      "metadata": {
        "id": "TpAtm4KzD7Yo"
      },
      "source": [
        "!pip install shap"
      ],
      "execution_count": null,
      "outputs": []
    },
    {
      "cell_type": "code",
      "metadata": {
        "id": "jLN4_Ye6Hd34"
      },
      "source": [
        "!pip3 install catboost"
      ],
      "execution_count": null,
      "outputs": []
    },
    {
      "cell_type": "markdown",
      "metadata": {
        "id": "PzpeCGQ9SuH7"
      },
      "source": [
        "### Imports\n",
        "Import all the necessary libraries for the lab including Pandas, numpy, matplotlib, CatBoost."
      ]
    },
    {
      "cell_type": "code",
      "metadata": {
        "id": "Oc8p4rbFBP7_"
      },
      "source": [
        "import pandas as pd \n",
        "import numpy as np \n",
        "\n",
        "import shap\n",
        "shap.initjs()\n",
        "from catboost import CatBoostClassifier, Pool\n",
        "import matplotlib.pyplot as plt"
      ],
      "execution_count": null,
      "outputs": []
    },
    {
      "cell_type": "markdown",
      "metadata": {
        "id": "swQz4VKMS3Xd"
      },
      "source": [
        "### Mount Google Drive\n",
        "In the code cell below, we mount the google drive to the colab environment so that we have access to the local version of the dataset."
      ]
    },
    {
      "cell_type": "code",
      "metadata": {
        "id": "gBMWnL16CVFB"
      },
      "source": [
        "from google.colab import drive\n",
        "drive.mount('/content/drive')"
      ],
      "execution_count": null,
      "outputs": []
    },
    {
      "cell_type": "markdown",
      "metadata": {
        "id": "M-6G-3RZPDi1"
      },
      "source": [
        "### Read CSV\n",
        "We read the csv file using pandas in the code below."
      ]
    },
    {
      "cell_type": "code",
      "metadata": {
        "id": "437Eb6z0DLC-"
      },
      "source": [
        "mydata = pd.read_csv('/content/drive/My Drive/Intro2MLDatasets/Lab11/train.csv')"
      ],
      "execution_count": null,
      "outputs": []
    },
    {
      "cell_type": "code",
      "metadata": {
        "id": "iMBwZCsVQPdO"
      },
      "source": [
        "mydata"
      ],
      "execution_count": null,
      "outputs": []
    },
    {
      "cell_type": "markdown",
      "metadata": {
        "id": "wMRRzwmjPMUV"
      },
      "source": [
        "### Drop Features\n",
        "The features like 'Name', 'PassengerId', 'Cabin', 'Ticket' are unique and contribute no value towards the model learning. Hence, these features are dropped from the dataset."
      ]
    },
    {
      "cell_type": "code",
      "metadata": {
        "id": "guqLlveGS_N-"
      },
      "source": [
        "mydata.drop(columns=['Ticket','Cabin','Name','PassengerId'],inplace=True)\n",
        "mydata.rename({'Sex': 'Gender'}, axis=1, inplace=True)\n",
        "mydata"
      ],
      "execution_count": null,
      "outputs": []
    },
    {
      "cell_type": "markdown",
      "metadata": {
        "id": "iRsb3GDdP0ZH"
      },
      "source": [
        "### Convert Age into numeric\n",
        "The feature 'Age' is converted into numeric format."
      ]
    },
    {
      "cell_type": "code",
      "metadata": {
        "id": "uGRs6BUOXi-J"
      },
      "source": [
        "mydata['Age'] = pd.to_numeric(mydata['Age'])"
      ],
      "execution_count": null,
      "outputs": []
    },
    {
      "cell_type": "markdown",
      "metadata": {
        "id": "6Nabi2A0P8So"
      },
      "source": [
        "### Categorize into Numerical and Categorical \n",
        "The features in the dataset are categorized into numerical and categorical features."
      ]
    },
    {
      "cell_type": "code",
      "metadata": {
        "id": "Sp3mJn9yWccF"
      },
      "source": [
        "def categorize(data):\n",
        "  num_columns = []\n",
        "  cat_columns = []\n",
        "\n",
        "  for col in data.columns.values:\n",
        "      if data[col].dtypes == 'int64' or data[col].dtypes == 'float64':\n",
        "          num_columns += [col]\n",
        "      else:\n",
        "          cat_columns += [col]\n",
        "  return [cat_columns, num_columns]"
      ],
      "execution_count": null,
      "outputs": []
    },
    {
      "cell_type": "code",
      "metadata": {
        "id": "gwlQckgCWf9C"
      },
      "source": [
        "cat_columns, num_columns = categorize(mydata)[0], categorize(mydata)[1]\n",
        "print(\"Categorical values: \", cat_columns)\n",
        "print(\"Numerical values: \", num_columns)"
      ],
      "execution_count": null,
      "outputs": []
    },
    {
      "cell_type": "markdown",
      "metadata": {
        "id": "9bKf0WUpQnAs"
      },
      "source": [
        "### Median value\n",
        "For each of the numerical feature, find the median value and save it as median value of the feature."
      ]
    },
    {
      "cell_type": "code",
      "metadata": {
        "id": "9eE9m2aBU2TF"
      },
      "source": [
        "median_val = pd.Series()\n",
        "for col in num_columns:\n",
        "  median_val[col] = mydata[col].median()\n",
        "print(\"Median values for each Numerical features \\n\\n\", median_val)"
      ],
      "execution_count": null,
      "outputs": []
    },
    {
      "cell_type": "markdown",
      "metadata": {
        "id": "49PU2YTuQ1js"
      },
      "source": [
        "### Handle missing values\n",
        "As features have missing data in it, these missing values should be replaced before we can train the model. These missing values are replaced by median value generatead in the previous code for numerical features. Missing values for categorical features should be replaced by \"Missing value\"."
      ]
    },
    {
      "cell_type": "code",
      "metadata": {
        "id": "x88_bLgrWtrt"
      },
      "source": [
        "def handle_missing_values(data, median_val):\n",
        "    df = data.copy()\n",
        "    for col in df:\n",
        "        if col in median_val.index.values:\n",
        "            df[col] = df[col].fillna(median_val[col])\n",
        "        else:\n",
        "            df[col] = df[col].fillna(\"Missing value\")\n",
        "    \n",
        "    return df"
      ],
      "execution_count": null,
      "outputs": []
    },
    {
      "cell_type": "code",
      "metadata": {
        "id": "CR5dlGuIWxrM"
      },
      "source": [
        "mydata = handle_missing_values(mydata, median_val)"
      ],
      "execution_count": null,
      "outputs": []
    },
    {
      "cell_type": "code",
      "metadata": {
        "id": "yw9_AReOW14c"
      },
      "source": [
        "mydata"
      ],
      "execution_count": null,
      "outputs": []
    },
    {
      "cell_type": "markdown",
      "metadata": {
        "id": "bYWeDwFkRDJv"
      },
      "source": [
        "### Label and features\n",
        "Separate the dataset into label and features to prepare for training."
      ]
    },
    {
      "cell_type": "code",
      "metadata": {
        "id": "JBSAdQAeX_Cu"
      },
      "source": [
        "X = mydata.drop('Survived', axis=1)\n",
        "y = mydata['Survived']"
      ],
      "execution_count": null,
      "outputs": []
    },
    {
      "cell_type": "markdown",
      "metadata": {
        "id": "aeb0MXEvRKDr"
      },
      "source": [
        "### CatBoost Classifier\n",
        "We are using CatBoost classifier to train the model and generate SHAP values for each feature."
      ]
    },
    {
      "cell_type": "code",
      "metadata": {
        "id": "QItEmaUFJCGp"
      },
      "source": [
        "#State and Area Code as categorical features\n",
        "categorical_features = ['Gender','Embarked']\n",
        "cat = CatBoostClassifier(cat_features=categorical_features).fit(X,y)\n",
        "\n",
        "#Use Pool to identify categorical features in X dataframe, and identify the return type of catboost library as ShapValues. \n",
        "shap_values = pd.DataFrame(\n",
        "    cat.get_feature_importance(data = Pool(X, cat_features = categorical_features), type='ShapValues')[:,:-1],\n",
        "    columns = X.columns,\n",
        "    index = X.index\n",
        ")"
      ],
      "execution_count": null,
      "outputs": []
    },
    {
      "cell_type": "code",
      "metadata": {
        "id": "KYsJd__gPy07"
      },
      "source": [
        "shap_values"
      ],
      "execution_count": null,
      "outputs": []
    },
    {
      "cell_type": "markdown",
      "metadata": {
        "id": "747k58lRmT_Q"
      },
      "source": [
        "### Assessing the most risked factors for each customer\n",
        "The plot below shows for each passenger relatively how many features are affecting the probability of survival. In most of the passengers, it looks like the number of features highly affecting the probability of survival is very close. In nature it is often found that the greatest part of an outcome is due to a tiny number of causes, and is also called pareto principle."
      ]
    },
    {
      "cell_type": "code",
      "metadata": {
        "id": "ddxzEdBUc7a0"
      },
      "source": [
        "%matplotlib inline \n",
        "\n",
        "#for loop through each of the rows and sort SHAP values for each row\n",
        "for i in shap_values.index:\n",
        "  plt.plot(range(shap_values.shape[1]), shap_values.iloc[i, :].sort_values())\n",
        "\n",
        "plt.title('All risky customers')\n",
        "plt.ylabel('SHAP')\n",
        "plt.xlabel('Features sorted by SHAP (for each customer)')\n",
        "\n",
        "#As the SHAP values are sorted, the x-axis label will be different for each customer."
      ],
      "execution_count": null,
      "outputs": []
    },
    {
      "cell_type": "markdown",
      "metadata": {
        "id": "9YVpPICjRUkk"
      },
      "source": [
        "### Individual Instance\n",
        "This code cell picks the third instance from the dataset to visualize how each feature plays the importance to it's respective label. "
      ]
    },
    {
      "cell_type": "code",
      "metadata": {
        "colab": {
          "base_uri": "https://localhost:8080/",
          "height": 80
        },
        "id": "V3zlwl0ZkU39",
        "outputId": "cba41801-491b-44e9-ccf9-84a987fa211b"
      },
      "source": [
        "X_obs1 = X.loc[3,:]\n",
        "X_obs1 = X_obs1.to_frame().T\n",
        "X_obs1.index = ['Observed']\n",
        "X_obs1"
      ],
      "execution_count": null,
      "outputs": [
        {
          "output_type": "execute_result",
          "data": {
            "text/html": [
              "<div>\n",
              "<style scoped>\n",
              "    .dataframe tbody tr th:only-of-type {\n",
              "        vertical-align: middle;\n",
              "    }\n",
              "\n",
              "    .dataframe tbody tr th {\n",
              "        vertical-align: top;\n",
              "    }\n",
              "\n",
              "    .dataframe thead th {\n",
              "        text-align: right;\n",
              "    }\n",
              "</style>\n",
              "<table border=\"1\" class=\"dataframe\">\n",
              "  <thead>\n",
              "    <tr style=\"text-align: right;\">\n",
              "      <th></th>\n",
              "      <th>Pclass</th>\n",
              "      <th>Gender</th>\n",
              "      <th>Age</th>\n",
              "      <th>SibSp</th>\n",
              "      <th>Parch</th>\n",
              "      <th>Fare</th>\n",
              "      <th>Embarked</th>\n",
              "    </tr>\n",
              "  </thead>\n",
              "  <tbody>\n",
              "    <tr>\n",
              "      <th>Observed</th>\n",
              "      <td>1</td>\n",
              "      <td>female</td>\n",
              "      <td>35</td>\n",
              "      <td>1</td>\n",
              "      <td>0</td>\n",
              "      <td>53.1</td>\n",
              "      <td>S</td>\n",
              "    </tr>\n",
              "  </tbody>\n",
              "</table>\n",
              "</div>"
            ],
            "text/plain": [
              "         Pclass  Gender Age SibSp Parch  Fare Embarked\n",
              "Observed      1  female  35     1     0  53.1        S"
            ]
          },
          "metadata": {},
          "execution_count": 171
        }
      ]
    },
    {
      "cell_type": "code",
      "metadata": {
        "id": "Gj6DBJLLRkBI"
      },
      "source": [
        "X_obs = X.loc[55,:]\n",
        "X_obs = X_obs.to_frame().T\n",
        "X_obs.index = ['Observed']\n",
        "X_obs"
      ],
      "execution_count": null,
      "outputs": []
    },
    {
      "cell_type": "markdown",
      "metadata": {
        "id": "OodF9sbSRlab"
      },
      "source": [
        "### Visualizing SHAP value for the instance \n",
        "The SHAP value for the third instance of the dataset is visualized where positive value has more influence on the label and negative value has less infleunce on the label."
      ]
    },
    {
      "cell_type": "code",
      "metadata": {
        "id": "-QTdxvXukdSP"
      },
      "source": [
        "shap_obs1 = shap_values.loc[3,:]\n",
        "shap_obs1 = shap_obs1.to_frame().T.round(3).astype(str)\n",
        "shap_obs1.index = ['SHAP']\n",
        "shap_obs1 = shap_obs1.style.apply(lambda x:[\"background:pink\" if v[0]!='-' else \"background:lightblue\" for v in x], axis = 1)\n",
        "shap_obs1 "
      ],
      "execution_count": null,
      "outputs": []
    },
    {
      "cell_type": "code",
      "metadata": {
        "id": "XzVhtkgnSNMb"
      },
      "source": [
        "shap_obs = shap_values.loc[55,:]\n",
        "shap_obs = shap_obs.to_frame().T.round(3).astype(str)\n",
        "shap_obs.index = ['SHAP']\n",
        "shap_obs = shap_obs.style.apply(lambda x:[\"background:pink\" if v[0]!='-' else \"background:lightblue\" for v in x], axis = 1)\n",
        "shap_obs "
      ],
      "execution_count": null,
      "outputs": []
    },
    {
      "cell_type": "markdown",
      "metadata": {
        "id": "qbUEpkJYn7XB"
      },
      "source": [
        "### Analyzing force plot\n",
        "The force plot provides the SHAP values which basically tell us which features are most likely to affect the label. Pink colored (positive values) part dictates the features which have more effect on the label. As we go from left to right, the probability of label being true is higher. Blue colored (negative values) part dictates the features which have less effect on label. As we go from right to left, the probability of label being false is higher."
      ]
    },
    {
      "cell_type": "code",
      "metadata": {
        "id": "_Lhuw0eJknnq"
      },
      "source": [
        "shap.force_plot(\n",
        "    base_value = 0, \n",
        "    shap_values = np.array(shap_values.loc[3,:]), \n",
        "    features = X.loc[3,:],\n",
        "    show = False,\n",
        "    matplotlib=True\n",
        ")\n",
        "plt.tight_layout()"
      ],
      "execution_count": null,
      "outputs": []
    },
    {
      "cell_type": "code",
      "metadata": {
        "id": "qYnuifqYSwaU"
      },
      "source": [
        "shap.force_plot(\n",
        "    base_value = 0, \n",
        "    shap_values = np.array(shap_values.loc[55,:]), \n",
        "    features = X.loc[55,:],\n",
        "    show = False,\n",
        "    matplotlib=True\n",
        ")\n",
        "plt.tight_layout()"
      ],
      "execution_count": null,
      "outputs": []
    },
    {
      "cell_type": "markdown",
      "metadata": {
        "id": "mCB43N_Hozsw"
      },
      "source": [
        "### Risk factors in single passenger\n",
        "Here we visualize the features that highly affect the label for a single passenger."
      ]
    },
    {
      "cell_type": "code",
      "metadata": {
        "id": "BRmGKucLkuGQ"
      },
      "source": [
        "%matplotlib inline\n",
        "\n",
        "SHAP_values1 = shap_values.iloc[3,:].sort_values()\n",
        "plt.plot(range(shap_values.shape[1]), SHAP_values1, '-bo')\n",
        "plt.hlines(0, -.5, shap_values.shape[1] - .5, color = 'red')\n",
        "plt.ylabel('SHAP')\n",
        "plt.xlabel('Features sorted by SHAP')\n",
        "plt.title('High-risk passenger (id: {})'.format(3))\n",
        "plt.xticks(range(shap_values.shape[1]), SHAP_values1.index, rotation=90)"
      ],
      "execution_count": null,
      "outputs": []
    },
    {
      "cell_type": "code",
      "metadata": {
        "id": "I67FGtiwqZoY"
      },
      "source": [
        "X_obs1"
      ],
      "execution_count": null,
      "outputs": []
    },
    {
      "cell_type": "code",
      "metadata": {
        "id": "5jIQLxJtzSJs"
      },
      "source": [
        "y_obs1 = y.iloc[3]\n",
        "print(\"Survived: \", y_obs1)"
      ],
      "execution_count": null,
      "outputs": []
    },
    {
      "cell_type": "code",
      "metadata": {
        "id": "J67IyeXbo6_d"
      },
      "source": [
        "%matplotlib inline\n",
        "\n",
        "SHAP_values = shap_values.iloc[55,:].sort_values()\n",
        "plt.plot(range(shap_values.shape[1]), SHAP_values, '-bo')\n",
        "plt.hlines(0, -.5, shap_values.shape[1] - .5, color = 'red')\n",
        "plt.ylabel('SHAP')\n",
        "plt.xlabel('Features sorted by SHAP')\n",
        "plt.title('High-risk passenger (id: {})'.format(55))\n",
        "plt.xticks(range(shap_values.shape[1]), SHAP_values.index, rotation=90)"
      ],
      "execution_count": null,
      "outputs": []
    },
    {
      "cell_type": "code",
      "metadata": {
        "id": "e_vTZSamqYGO"
      },
      "source": [
        "X_obs"
      ],
      "execution_count": null,
      "outputs": []
    },
    {
      "cell_type": "code",
      "metadata": {
        "id": "-09g2ak_z03c"
      },
      "source": [
        "y_obs = y.iloc[55]\n",
        "print(\"Survived: \", y_obs)"
      ],
      "execution_count": null,
      "outputs": []
    },
    {
      "cell_type": "markdown",
      "metadata": {
        "id": "fSJEa2p4C5IT"
      },
      "source": [
        "### Cumulative sum of the SHAP values\n",
        "As we see in the plot below, the vertical line separates the negative and positive cumulative SHAP values of the features. Cumulative sum helps us separate vital few causes from the trivial many. As we can see in the plot, four major features seem to be directly affecting the label negatively in this case."
      ]
    },
    {
      "cell_type": "code",
      "metadata": {
        "id": "1H11cupbk8Vs"
      },
      "source": [
        "%matplotlib inline \n",
        "\n",
        "cum_SHAP_values1 = SHAP_values1.cumsum()\n",
        "cum_range = max(cum_SHAP_values1) - min(cum_SHAP_values1)\n",
        "\n",
        "plt.plot(range(shap_values.shape[1]), cum_SHAP_values1, '-bo')\n",
        "plt.vlines(shap_values.shape[1] - (cum_SHAP_values1 > 0).sum() - .5, min(cum_SHAP_values1) - .05 * cum_range, max(cum_SHAP_values1) + .05 * cum_range, color = 'red')\n",
        "plt.hlines(0, -.5, shap_values.shape[1] - .5, color = 'red')\n",
        "plt.ylabel('SHAP cumulative sum')\n",
        "plt.xlabel('Features sorted by SHAP')\n",
        "plt.title('High-risk passenger (id: {})'.format(3))\n",
        "plt.xticks(range(shap_values.shape[1]), cum_SHAP_values1.index, rotation=90)"
      ],
      "execution_count": null,
      "outputs": []
    },
    {
      "cell_type": "code",
      "metadata": {
        "id": "3EHjAUEwnGsW"
      },
      "source": [
        "X_obs1"
      ],
      "execution_count": null,
      "outputs": []
    },
    {
      "cell_type": "code",
      "metadata": {
        "id": "d5pjvZ0Jz3Bn"
      },
      "source": [
        "%matplotlib inline \n",
        "\n",
        "cum_SHAP_values = SHAP_values.cumsum()\n",
        "cum_range = max(cum_SHAP_values) - min(cum_SHAP_values)\n",
        "\n",
        "plt.plot(range(shap_values.shape[1]), cum_SHAP_values, '-bo')\n",
        "plt.vlines(shap_values.shape[1] - (cum_SHAP_values > 0).sum() - .5, min(cum_SHAP_values) - .05 * cum_range, max(cum_SHAP_values) + .05 * cum_range, color = 'red')\n",
        "plt.hlines(0, -.5, shap_values.shape[1] - .5, color = 'red')\n",
        "plt.ylabel('SHAP cumulative sum')\n",
        "plt.xlabel('Features sorted by SHAP')\n",
        "plt.title('High-risk passenger (id: {})'.format(55))\n",
        "plt.xticks(range(shap_values.shape[1]), cum_SHAP_values.index, rotation=90)"
      ],
      "execution_count": null,
      "outputs": []
    },
    {
      "cell_type": "code",
      "metadata": {
        "id": "PfEYhdqZnE7o"
      },
      "source": [
        "X_obs"
      ],
      "execution_count": null,
      "outputs": []
    },
    {
      "cell_type": "markdown",
      "metadata": {
        "id": "447oniRArzx0"
      },
      "source": [
        "**Can you show a comparison of force plot for different instance of Female and Male passenger? Explain what you observed.**"
      ]
    }
  ]
}